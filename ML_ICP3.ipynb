{
  "nbformat": 4,
  "nbformat_minor": 0,
  "metadata": {
    "colab": {
      "provenance": []
    },
    "kernelspec": {
      "name": "python3",
      "display_name": "Python 3"
    },
    "language_info": {
      "name": "python"
    }
  },
  "cells": [
    {
      "cell_type": "code",
      "execution_count": 1,
      "metadata": {
        "colab": {
          "base_uri": "https://localhost:8080/"
        },
        "id": "Cs8if-Zi0SGk",
        "outputId": "ad951431-ea1d-4f04-c86e-8562fb6c8204"
      },
      "outputs": [
        {
          "output_type": "stream",
          "name": "stdout",
          "text": [
            "Shape of the array: (3, 5)\n",
            "Array after replacing max in each row by 0:\n",
            "[[ 0  7 12  5 15]\n",
            " [11  7 11 10  0]\n",
            " [16 12 11  1  0]]\n",
            "Shape of the array_4x3: (4, 3)\n",
            "Type of the array_4x3: <class 'numpy.ndarray'>\n",
            "Data type of the array_4x3: int32\n"
          ]
        }
      ],
      "source": [
        "import numpy as np\n",
        "\n",
        "# Create a random vector of size 15 with integers in the range 1-20\n",
        "random_vector = np.random.randint(1, 21, size=15)\n",
        "\n",
        "# Reshape the array to 3 by 5\n",
        "reshaped_array = random_vector.reshape(3, 5)\n",
        "\n",
        "# Print array shape\n",
        "print(\"Shape of the array:\", reshaped_array.shape)\n",
        "\n",
        "# Replace the max in each row by 0\n",
        "reshaped_array[np.arange(len(reshaped_array)), np.argmax(reshaped_array, axis=1)] = 0\n",
        "\n",
        "print(\"Array after replacing max in each row by 0:\")\n",
        "print(reshaped_array)\n",
        "\n",
        "# Create a 2-dimensional array of size 4 x 3 with 4-byte integer elements\n",
        "array_4x3 = np.zeros((4, 3), dtype=np.int32)\n",
        "\n",
        "# Print shape, type, and data type of the array\n",
        "print(\"Shape of the array_4x3:\", array_4x3.shape)\n",
        "print(\"Type of the array_4x3:\", type(array_4x3))\n",
        "print(\"Data type of the array_4x3:\", array_4x3.dtype)\n"
      ]
    },
    {
      "cell_type": "code",
      "source": [
        "import numpy as np\n",
        "\n",
        "# Given square array\n",
        "square_array = np.array([[1, 2, 3],\n",
        "                         [4, 5, 6],\n",
        "                         [7, 8, 9]])\n",
        "\n",
        "# Compute eigenvalues and right eigenvectors\n",
        "eigenvalues, eigenvectors = np.linalg.eig(square_array)\n",
        "\n",
        "# Print eigenvalues and right eigenvectors\n",
        "print(\"Eigenvalues:\")\n",
        "print(eigenvalues)\n",
        "print(\"\\nRight Eigenvectors:\")\n",
        "print(eigenvectors)\n"
      ],
      "metadata": {
        "colab": {
          "base_uri": "https://localhost:8080/"
        },
        "id": "2KIr6rhD0e3h",
        "outputId": "f5e64ec0-0109-47ab-a17c-e6a5c713dc1d"
      },
      "execution_count": 2,
      "outputs": [
        {
          "output_type": "stream",
          "name": "stdout",
          "text": [
            "Eigenvalues:\n",
            "[ 1.61168440e+01 -1.11684397e+00 -1.30367773e-15]\n",
            "\n",
            "Right Eigenvectors:\n",
            "[[-0.23197069 -0.78583024  0.40824829]\n",
            " [-0.52532209 -0.08675134 -0.81649658]\n",
            " [-0.8186735   0.61232756  0.40824829]]\n"
          ]
        }
      ]
    },
    {
      "cell_type": "code",
      "source": [
        "import numpy as np\n",
        "\n",
        "# Given array\n",
        "given_array = np.array([[1, 2, 3],\n",
        "                        [4, 5, 6],\n",
        "                        [7, 8, 9]])\n",
        "\n",
        "# Compute the sum of diagonal elements\n",
        "diagonal_sum = np.trace(given_array)\n",
        "\n",
        "# Print the sum\n",
        "print(\"Sum of diagonal elements:\", diagonal_sum)\n"
      ],
      "metadata": {
        "colab": {
          "base_uri": "https://localhost:8080/"
        },
        "id": "Fg0-K7xS0yAB",
        "outputId": "3e996285-99ec-4663-adb6-b816bca7f0a3"
      },
      "execution_count": 3,
      "outputs": [
        {
          "output_type": "stream",
          "name": "stdout",
          "text": [
            "Sum of diagonal elements: 15\n"
          ]
        }
      ]
    },
    {
      "cell_type": "code",
      "source": [
        "import numpy as np\n",
        "\n",
        "# Given array\n",
        "original_array = np.array([[1, 2],\n",
        "                           [3, 4],\n",
        "                           [5, 6]])\n",
        "\n",
        "# Reshape to 3x2\n",
        "reshaped_3x2 = np.reshape(original_array, (3, 2))\n",
        "\n",
        "# Reshape to 2x3\n",
        "reshaped_2x3 = np.reshape(original_array, (2, 3))\n",
        "\n",
        "# Print the reshaped arrays\n",
        "print(\"Reshaped to 3x2:\")\n",
        "print(reshaped_3x2)\n",
        "print(\"\\nReshaped to 2x3:\")\n",
        "print(reshaped_2x3)\n"
      ],
      "metadata": {
        "colab": {
          "base_uri": "https://localhost:8080/"
        },
        "id": "OINUjv5o00QD",
        "outputId": "46adad71-6076-4948-af9c-592afc751f0d"
      },
      "execution_count": 4,
      "outputs": [
        {
          "output_type": "stream",
          "name": "stdout",
          "text": [
            "Reshaped to 3x2:\n",
            "[[1 2]\n",
            " [3 4]\n",
            " [5 6]]\n",
            "\n",
            "Reshaped to 2x3:\n",
            "[[1 2 3]\n",
            " [4 5 6]]\n"
          ]
        }
      ]
    }
  ]
}